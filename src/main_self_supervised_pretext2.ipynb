{
 "cells": [
  {
   "cell_type": "code",
   "id": "8a183a4e0b792cb0",
   "metadata": {
    "collapsed": false,
    "ExecuteTime": {
     "end_time": "2024-05-15T02:47:29.651122Z",
     "start_time": "2024-05-15T02:47:26.666123Z"
    }
   },
   "source": [
    "from dataset import load_data, load_data_perturbation\n",
    "from models import EfficientNetModel\n",
    "from helper_functions import train"
   ],
   "outputs": [],
   "execution_count": 1
  },
  {
   "cell_type": "code",
   "source": [
    "# Loading data\n",
    "train_loader, validation_loader = load_data_perturbation()"
   ],
   "metadata": {
    "collapsed": false,
    "ExecuteTime": {
     "end_time": "2024-05-15T02:47:40.542624Z",
     "start_time": "2024-05-15T02:47:29.652622Z"
    }
   },
   "id": "1189391b55ea39f4",
   "outputs": [
    {
     "name": "stdout",
     "output_type": "stream",
     "text": [
      "Number of train examples: 7180\n",
      "Number of evaluation examples: 1784\n",
      "Done loading data...\n"
     ]
    }
   ],
   "execution_count": 2
  },
  {
   "cell_type": "code",
   "source": [
    "# creating a model\n",
    "model = EfficientNetModel(num_classes=2)"
   ],
   "metadata": {
    "collapsed": false,
    "ExecuteTime": {
     "end_time": "2024-05-15T02:47:40.667123Z",
     "start_time": "2024-05-15T02:47:40.543623Z"
    }
   },
   "id": "e8db8083d80b52c7",
   "outputs": [],
   "execution_count": 3
  },
  {
   "cell_type": "code",
   "source": [
    "# training the model\n",
    "trained_model = train(model.model, train_loader, validation_loader, output_path='../output/self_supervised_pretext2/black_white_perturbation/')"
   ],
   "metadata": {
    "collapsed": true,
    "ExecuteTime": {
     "end_time": "2024-05-15T02:50:23.451623Z",
     "start_time": "2024-05-15T02:47:40.668123Z"
    }
   },
   "id": "initial_id",
   "outputs": [
    {
     "name": "stdout",
     "output_type": "stream",
     "text": [
      "Device used: cuda\n",
      "Epoch 1/10 done in 12.15 seconds ; Train Loss: 0.0318\n",
      "Validation Loss: 0.0001, Validation Accuracy: 1.0000\n",
      "---\n",
      "Epoch 2/10 done in 16.97 seconds ; Train Loss: 0.0159\n",
      "Validation Loss: 0.0000, Validation Accuracy: 1.0000\n",
      "---\n",
      "Epoch 3/10 done in 16.92 seconds ; Train Loss: 0.0106\n",
      "Validation Loss: 0.0000, Validation Accuracy: 1.0000\n",
      "---\n",
      "Epoch 4/10 done in 15.96 seconds ; Train Loss: 0.0080\n",
      "Validation Loss: 0.0000, Validation Accuracy: 1.0000\n",
      "---\n",
      "Epoch 5/10 done in 16.97 seconds ; Train Loss: 0.0064\n",
      "Validation Loss: 0.0000, Validation Accuracy: 1.0000\n",
      "---\n",
      "Epoch 6/10 done in 16.40 seconds ; Train Loss: 0.0053\n",
      "Validation Loss: 0.0000, Validation Accuracy: 1.0000\n",
      "---\n",
      "Epoch 7/10 done in 16.92 seconds ; Train Loss: 0.0046\n",
      "Validation Loss: 0.0000, Validation Accuracy: 1.0000\n",
      "---\n",
      "Epoch 8/10 done in 16.97 seconds ; Train Loss: 0.0040\n",
      "Validation Loss: 0.0000, Validation Accuracy: 1.0000\n",
      "---\n",
      "Epoch 9/10 done in 16.23 seconds ; Train Loss: 0.0035\n",
      "Validation Loss: 0.0000, Validation Accuracy: 1.0000\n",
      "---\n",
      "Epoch 10/10 done in 16.98 seconds ; Train Loss: 0.0032\n",
      "Validation Loss: 0.0000, Validation Accuracy: 1.0000\n",
      "---\n",
      "Training time in Mins :  2.70794997215271\n",
      "Train loss values per epoch:\n",
      "[0.03176137410873312, 0.015909307045366524, 0.010612290174526277, 0.00796159142746843, 0.0063702184318097585, 0.005309612065737109, 0.004551972953203211, 0.003983195532463266, 0.003540804280179109, 0.0031869345044783066]\n"
     ]
    },
    {
     "data": {
      "text/plain": [
       "<Figure size 640x480 with 1 Axes>"
      ],
      "image/png": "[encoded data removed]"
     },
     "metadata": {},
     "output_type": "display_data"
    }
   ],
   "execution_count": 4
  },
  {
   "metadata": {
    "ExecuteTime": {
     "end_time": "2024-05-15T02:50:23.455624Z",
     "start_time": "2024-05-15T02:50:23.453122Z"
    }
   },
   "cell_type": "code",
   "source": "model.model = trained_model",
   "id": "2f856795dd6f0bf",
   "outputs": [],
   "execution_count": 5
  },
  {
   "metadata": {
    "ExecuteTime": {
     "end_time": "2024-05-15T02:50:23.462122Z",
     "start_time": "2024-05-15T02:50:23.456123Z"
    }
   },
   "cell_type": "code",
   "source": [
    "# drop gaussian kernel classifier from the model and add original classifier to end of feature extraction part.\n",
    "model.replace_classifier(num_classes=15)\n",
    "model.set_trainable(freeze_feature_extraction=True)"
   ],
   "id": "535fc5dd718b1ef4",
   "outputs": [],
   "execution_count": 6
  },
  {
   "metadata": {
    "ExecuteTime": {
     "end_time": "2024-05-15T02:50:23.491622Z",
     "start_time": "2024-05-15T02:50:23.463122Z"
    }
   },
   "cell_type": "code",
   "source": [
    "# Loading data\n",
    "train_loader, validation_loader = load_data()"
   ],
   "id": "9bad94d4ec6ae37d",
   "outputs": [
    {
     "name": "stdout",
     "output_type": "stream",
     "text": [
      "Number of train examples: 3590\n",
      "Number of evaluation examples: 892\n",
      "Done loading data...\n"
     ]
    }
   ],
   "execution_count": 7
  },
  {
   "metadata": {
    "ExecuteTime": {
     "end_time": "2024-05-15T02:52:14.396123Z",
     "start_time": "2024-05-15T02:50:23.492622Z"
    }
   },
   "cell_type": "code",
   "source": [
    "# training the model\n",
    "trained_model_original_classifier = train(model.model, train_loader, validation_loader, output_path='../output/self_supervised_pretext2/scene_classification/')"
   ],
   "id": "fc0896545f8c6e38",
   "outputs": [
    {
     "name": "stdout",
     "output_type": "stream",
     "text": [
      "Device used: cuda\n"
     ]
    },
    {
     "name": "stderr",
     "output_type": "stream",
     "text": [
      "C:\\Users\\centu\\PycharmProjects\\ANN_project\\venv\\Lib\\site-packages\\sklearn\\metrics\\_classification.py:1509: UndefinedMetricWarning: Precision is ill-defined and being set to 0.0 in labels with no predicted samples. Use `zero_division` parameter to control this behavior.\n",
      "  _warn_prf(average, modifier, f\"{metric.capitalize()} is\", len(result))\n",
      "C:\\Users\\centu\\PycharmProjects\\ANN_project\\venv\\Lib\\site-packages\\sklearn\\metrics\\_classification.py:1509: UndefinedMetricWarning: Precision is ill-defined and being set to 0.0 in labels with no predicted samples. Use `zero_division` parameter to control this behavior.\n",
      "  _warn_prf(average, modifier, f\"{metric.capitalize()} is\", len(result))\n",
      "C:\\Users\\centu\\PycharmProjects\\ANN_project\\venv\\Lib\\site-packages\\sklearn\\metrics\\_classification.py:1509: UndefinedMetricWarning: Precision is ill-defined and being set to 0.0 in labels with no predicted samples. Use `zero_division` parameter to control this behavior.\n",
      "  _warn_prf(average, modifier, f\"{metric.capitalize()} is\", len(result))\n"
     ]
    },
    {
     "name": "stdout",
     "output_type": "stream",
     "text": [
      "Epoch 1/10 done in 11.53 seconds ; Train Loss: 2.3680\n",
      "Validation Loss: 2.0873, Validation Accuracy: 0.3500\n",
      "---\n",
      "Epoch 2/10 done in 10.89 seconds ; Train Loss: 2.2231\n",
      "Validation Loss: 1.9284, Validation Accuracy: 0.4000\n",
      "---\n",
      "Epoch 3/10 done in 11.00 seconds ; Train Loss: 2.1470\n",
      "Validation Loss: 1.7563, Validation Accuracy: 0.4800\n",
      "---\n",
      "Epoch 4/10 done in 11.03 seconds ; Train Loss: 2.0773\n",
      "Validation Loss: 1.6773, Validation Accuracy: 0.4800\n",
      "---\n",
      "Epoch 5/10 done in 11.02 seconds ; Train Loss: 2.0203\n",
      "Validation Loss: 1.6026, Validation Accuracy: 0.5200\n",
      "---\n",
      "Epoch 6/10 done in 11.02 seconds ; Train Loss: 1.9556\n",
      "Validation Loss: 1.5224, Validation Accuracy: 0.5200\n",
      "---\n",
      "Epoch 7/10 done in 11.07 seconds ; Train Loss: 1.9125\n",
      "Validation Loss: 1.5315, Validation Accuracy: 0.5300\n",
      "---\n",
      "Epoch 8/10 done in 11.06 seconds ; Train Loss: 1.8756\n",
      "Validation Loss: 1.4806, Validation Accuracy: 0.5300\n",
      "---\n",
      "Epoch 9/10 done in 10.99 seconds ; Train Loss: 1.8508\n",
      "Validation Loss: 1.4612, Validation Accuracy: 0.5500\n",
      "---\n",
      "Epoch 10/10 done in 11.06 seconds ; Train Loss: 1.8188\n",
      "Validation Loss: 1.4394, Validation Accuracy: 0.5600\n",
      "---\n",
      "Training time in Mins :  1.8448749899864196\n",
      "Train loss values per epoch:\n",
      "[2.3680192033449807, 2.2231355160474777, 2.14700057109197, 2.077250507970651, 2.020288477341334, 1.9555518180131912, 1.912525719120389, 1.875569178412358, 1.8507904631120187, 1.8187618335088094]\n"
     ]
    },
    {
     "data": {
      "text/plain": [
       "<Figure size 640x480 with 1 Axes>"
      ],
      "image/png": "[encoded data removed]"
     },
     "metadata": {},
     "output_type": "display_data"
    }
   ],
   "execution_count": 8
  }
 ],
 "metadata": {
  "kernelspec": {
   "display_name": "Python 3",
   "language": "python",
   "name": "python3"
  },
  "language_info": {
   "codemirror_mode": {
    "name": "ipython",
    "version": 2
   },
   "file_extension": ".py",
   "mimetype": "text/x-python",
   "name": "python",
   "nbconvert_exporter": "python",
   "pygments_lexer": "ipython2",
   "version": "2.7.6"
  }
 },
 "nbformat": 4,
 "nbformat_minor": 5
}
