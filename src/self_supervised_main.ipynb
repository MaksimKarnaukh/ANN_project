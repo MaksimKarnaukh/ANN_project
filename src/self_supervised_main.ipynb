{
 "cells": [
  {
   "cell_type": "code",
   "execution_count": null,
   "id": "8a183a4e0b792cb0",
   "metadata": {
    "collapsed": false
   },
   "outputs": [],
   "source": [
    "from dataset import load_data, load_data_blurred\n",
    "from models import EfficientNetModel\n",
    "from helper_functions import train"
   ]
  },
  {
   "cell_type": "code",
   "outputs": [],
   "source": [
    "# Loading data\n",
    "train_loader, validation_loader = load_data_blurred()"
   ],
   "metadata": {
    "collapsed": false
   },
   "id": "1189391b55ea39f4",
   "execution_count": null
  },
  {
   "cell_type": "code",
   "outputs": [],
   "source": [
    "# creating a model\n",
    "model = EfficientNetModel(num_classes=5).model"
   ],
   "metadata": {
    "collapsed": false
   },
   "id": "e8db8083d80b52c7",
   "execution_count": null
  },
  {
   "cell_type": "code",
   "outputs": [],
   "source": [
    "# training the model\n",
    "model = train(model, train_loader, validation_loader)"
   ],
   "metadata": {
    "collapsed": true
   },
   "id": "initial_id",
   "execution_count": 0
  }
 ],
 "metadata": {
  "kernelspec": {
   "display_name": "Python 3",
   "language": "python",
   "name": "python3"
  },
  "language_info": {
   "codemirror_mode": {
    "name": "ipython",
    "version": 2
   },
   "file_extension": ".py",
   "mimetype": "text/x-python",
   "name": "python",
   "nbconvert_exporter": "python",
   "pygments_lexer": "ipython2",
   "version": "2.7.6"
  }
 },
 "nbformat": 4,
 "nbformat_minor": 5
}
